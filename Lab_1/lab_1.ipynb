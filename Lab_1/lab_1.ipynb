{
 "cells": [
  {
   "cell_type": "code",
   "execution_count": null,
   "id": "22fed074",
   "metadata": {},
   "outputs": [],
   "source": [
    "import polars as pl"
   ]
  },
  {
   "cell_type": "code",
   "execution_count": null,
   "id": "bfe3fbba",
   "metadata": {},
   "outputs": [],
   "source": [
    "df_path = \"data\\MosaicData.csv\"\n",
    "df = pl.read_csv(\n",
    "    df_path,\n",
    "    separator=\";\",\n",
    "    quote_char='\"',\n",
    "    has_header=True,\n",
    "    null_values=[\"NA\", \"\"],\n",
    "    ignore_errors=True,\n",
    "    encoding=\"utf8-lossy\"\n",
    ")\n",
    "df"
   ]
  },
  {
   "cell_type": "code",
   "execution_count": null,
   "id": "a102af84",
   "metadata": {},
   "outputs": [],
   "source": []
  }
 ],
 "metadata": {
  "kernelspec": {
   "display_name": "lab-1",
   "language": "python",
   "name": "python3"
  },
  "language_info": {
   "codemirror_mode": {
    "name": "ipython",
    "version": 3
   },
   "file_extension": ".py",
   "mimetype": "text/x-python",
   "name": "python",
   "nbconvert_exporter": "python",
   "pygments_lexer": "ipython3",
   "version": "3.11.11"
  }
 },
 "nbformat": 4,
 "nbformat_minor": 5
}
